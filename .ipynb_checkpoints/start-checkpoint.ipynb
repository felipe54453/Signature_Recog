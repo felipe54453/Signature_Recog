{
 "cells": [
  {
   "cell_type": "code",
   "execution_count": 3,
   "metadata": {},
   "outputs": [
    {
     "name": "stdout",
     "output_type": "stream",
     "text": [
      "Collecting opencv-python\n",
      "  Downloading opencv_python-4.5.1.48-cp37-cp37m-win_amd64.whl (34.9 MB)\n",
      "Requirement already satisfied: numpy>=1.14.5 in c:\\users\\felip\\anaconda3\\lib\\site-packages (from opencv-python) (1.18.1)\n",
      "Installing collected packages: opencv-python\n",
      "Successfully installed opencv-python-4.5.1.48\n",
      "Collecting opencv-contrib-python\n",
      "  Downloading opencv_contrib_python-4.5.1.48-cp37-cp37m-win_amd64.whl (41.2 MB)\n",
      "Requirement already satisfied: numpy>=1.14.5 in c:\\users\\felip\\anaconda3\\lib\\site-packages (from opencv-contrib-python) (1.18.1)\n",
      "Installing collected packages: opencv-contrib-python\n",
      "Successfully installed opencv-contrib-python-4.5.1.48\n"
     ]
    }
   ],
   "source": [
    "!pip install opencv-python\n",
    "!pip install opencv-contrib-python\n",
    "\n",
    "import numpy as np\n",
    "import cv2 as cv"
   ]
  },
  {
   "cell_type": "code",
   "execution_count": 4,
   "metadata": {},
   "outputs": [
    {
     "name": "stdout",
     "output_type": "stream",
     "text": [
      "[[  0.   4. 124. ...   0.   0.   2.]\n",
      " [  1.   0.   0. ...   0.  33.  64.]\n",
      " [  0.   0.   8. ...  28.  13.   0.]\n",
      " ...\n",
      " [  0.  35.  27. ...   0.   0.   2.]\n",
      " [  0.   0.   0. ...   0.   0.   1.]\n",
      " [  1.   8.   0. ...   0.   1.   3.]]\n",
      "[<KeyPoint 0000018818BBAF00>, <KeyPoint 0000018818BBAE10>, <KeyPoint 0000018818BBAF60>, <KeyPoint 0000018818BBAED0>, <KeyPoint 0000018818745C30>, <KeyPoint 00000188187453F0>, <KeyPoint 00000188187455D0>, <KeyPoint 0000018814A5DE10>, <KeyPoint 0000018814A5DD20>, <KeyPoint 0000018814A5DD50>, <KeyPoint 0000018814A5DD80>, <KeyPoint 0000018814A5DDB0>, <KeyPoint 0000018814A5DDE0>, <KeyPoint 0000018814A5DE40>, <KeyPoint 0000018814A5DE70>, <KeyPoint 0000018814A5DED0>, <KeyPoint 0000018814A5DF30>, <KeyPoint 0000018814A5DC30>, <KeyPoint 0000018814A5DF90>, <KeyPoint 0000018814A5DFC0>, <KeyPoint 0000018814A5DF00>, <KeyPoint 0000018814A5DEA0>, <KeyPoint 0000018814A5DF60>, <KeyPoint 0000018818726990>, <KeyPoint 0000018818726EA0>, <KeyPoint 0000018818726030>, <KeyPoint 0000018818726960>, <KeyPoint 0000018818726B70>, <KeyPoint 0000018818726900>, <KeyPoint 0000018818726930>, <KeyPoint 0000018818726B40>, <KeyPoint 0000018819F50030>, <KeyPoint 0000018819F50060>, <KeyPoint 0000018819F50090>, <KeyPoint 0000018819F500C0>, <KeyPoint 0000018819F500F0>, <KeyPoint 0000018819F50120>, <KeyPoint 0000018819F50150>, <KeyPoint 0000018819F50180>, <KeyPoint 0000018819F501B0>, <KeyPoint 0000018819F501E0>, <KeyPoint 0000018819F50210>, <KeyPoint 0000018819F50240>, <KeyPoint 0000018819F50270>, <KeyPoint 0000018819F502A0>, <KeyPoint 0000018819F502D0>, <KeyPoint 0000018819F50300>, <KeyPoint 0000018819F50330>, <KeyPoint 0000018819F50360>, <KeyPoint 0000018819F50390>, <KeyPoint 0000018819F503C0>, <KeyPoint 0000018819F503F0>, <KeyPoint 0000018819F50420>, <KeyPoint 0000018819F50450>, <KeyPoint 0000018819F50480>, <KeyPoint 0000018819F504B0>, <KeyPoint 0000018819F504E0>, <KeyPoint 0000018819F50510>, <KeyPoint 0000018819F50540>, <KeyPoint 0000018819F50570>, <KeyPoint 0000018819F505A0>, <KeyPoint 0000018819F505D0>, <KeyPoint 0000018819F50600>, <KeyPoint 0000018819F50630>, <KeyPoint 0000018819F50660>, <KeyPoint 0000018819F50690>, <KeyPoint 0000018819F506C0>, <KeyPoint 0000018819F506F0>, <KeyPoint 0000018819F50720>, <KeyPoint 0000018819F50750>, <KeyPoint 0000018819F50780>, <KeyPoint 0000018819F507B0>, <KeyPoint 0000018819F507E0>, <KeyPoint 0000018819F50810>, <KeyPoint 0000018819F50840>, <KeyPoint 0000018819F50870>, <KeyPoint 0000018819F508A0>, <KeyPoint 0000018819F508D0>, <KeyPoint 0000018819F50900>, <KeyPoint 0000018819F50930>, <KeyPoint 0000018819F50960>, <KeyPoint 0000018819F50990>, <KeyPoint 0000018819F509C0>, <KeyPoint 0000018819F509F0>]\n"
     ]
    }
   ],
   "source": [
    "img = cv.imread(\"signature.jpg\")\n",
    "gray = cv.cvtColor(img, cv.COLOR_BGR2GRAY)\n",
    "\n",
    "sift = cv.SIFT_create()\n",
    "kp, des = sift.detectAndCompute(gray, None)\n",
    "\n",
    "img = cv.drawKeypoints(gray, kp, img)\n",
    "cv.imwrite(\"sift_keypoints.jpg\", img)\n",
    "\n",
    "img = cv.drawKeypoints(gray, kp, img, flags=cv.DRAW_MATCHES_FLAGS_DRAW_RICH_KEYPOINTS)\n",
    "cv.imwrite(\"sift_keypoints.jpg\", img)\n"
   ]
  },
  {
   "cell_type": "code",
   "execution_count": null,
   "metadata": {},
   "outputs": [],
   "source": []
  }
 ],
 "metadata": {
  "kernelspec": {
   "display_name": "Python 3",
   "language": "python",
   "name": "python3"
  },
  "language_info": {
   "codemirror_mode": {
    "name": "ipython",
    "version": 3
   },
   "file_extension": ".py",
   "mimetype": "text/x-python",
   "name": "python",
   "nbconvert_exporter": "python",
   "pygments_lexer": "ipython3",
   "version": "3.7.6"
  }
 },
 "nbformat": 4,
 "nbformat_minor": 4
}
